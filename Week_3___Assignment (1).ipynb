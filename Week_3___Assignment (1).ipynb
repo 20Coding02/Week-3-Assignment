{
  "nbformat": 4,
  "nbformat_minor": 0,
  "metadata": {
    "colab": {
      "name": "Week 3 ~ Assignment.ipynb",
      "provenance": []
    },
    "kernelspec": {
      "name": "python3",
      "display_name": "Python 3"
    },
    "language_info": {
      "name": "python"
    }
  },
  "cells": [
    {
      "cell_type": "markdown",
      "metadata": {
        "id": "1tLgDR6U8rWS"
      },
      "source": [
        "Exercise 1:"
      ]
    },
    {
      "cell_type": "code",
      "metadata": {
        "id": "RWJTdNkP8PEU"
      },
      "source": [
        "x = 964\n",
        "y = 892"
      ],
      "execution_count": 13,
      "outputs": []
    },
    {
      "cell_type": "code",
      "metadata": {
        "colab": {
          "base_uri": "https://localhost:8080/"
        },
        "id": "zVBUAFpH8WES",
        "outputId": "b3e87f13-aa82-44ed-82d5-c720650b3e56"
      },
      "source": [
        "print(\"The difference between 964 and 892 is\", x - y)"
      ],
      "execution_count": 15,
      "outputs": [
        {
          "output_type": "stream",
          "text": [
            "The difference between 964 and 892 is 72\n"
          ],
          "name": "stdout"
        }
      ]
    },
    {
      "cell_type": "markdown",
      "metadata": {
        "id": "toUzTxM29goV"
      },
      "source": [
        "Exercise 2:"
      ]
    },
    {
      "cell_type": "code",
      "metadata": {
        "colab": {
          "base_uri": "https://localhost:8080/"
        },
        "id": "Hac1_Er49kFI",
        "outputId": "950d0529-2049-4864-c742-5d4a82012459"
      },
      "source": [
        "x = \"Samantha\"\n",
        "y = \"Bella\"\n",
        "if y < x:\n",
        "\n",
        "  print(\"The name Bella is shorter than Samantha by 3 characters\")"
      ],
      "execution_count": 112,
      "outputs": [
        {
          "output_type": "stream",
          "text": [
            "The name Bella is shorter than Samantha by 3 characters\n"
          ],
          "name": "stdout"
        }
      ]
    },
    {
      "cell_type": "markdown",
      "metadata": {
        "id": "xjxrMqQykNyj"
      },
      "source": [
        "Exercise 3:"
      ]
    },
    {
      "cell_type": "code",
      "metadata": {
        "id": "_4ygk-C19B77"
      },
      "source": [
        "tone_of_voice = {\"SAMANTHA\": \"Shouting\", \"Samantha\":\"Normal\",\"samantha\":\"Whispering\"}"
      ],
      "execution_count": 95,
      "outputs": []
    },
    {
      "cell_type": "code",
      "metadata": {
        "colab": {
          "base_uri": "https://localhost:8080/",
          "height": 35
        },
        "id": "gwOEbKqF8ePu",
        "outputId": "9421f97a-9e1a-4e5e-b5b3-067d44a2aacb"
      },
      "source": [
        "tone_of_voice[\"SAMANTHA\"]  "
      ],
      "execution_count": 96,
      "outputs": [
        {
          "output_type": "execute_result",
          "data": {
            "application/vnd.google.colaboratory.intrinsic+json": {
              "type": "string"
            },
            "text/plain": [
              "'Shouting'"
            ]
          },
          "metadata": {
            "tags": []
          },
          "execution_count": 96
        }
      ]
    },
    {
      "cell_type": "code",
      "metadata": {
        "colab": {
          "base_uri": "https://localhost:8080/",
          "height": 35
        },
        "id": "jPYXnW2K-mnG",
        "outputId": "d1b97ab6-07d0-4a9d-d670-d8ba46b0f41d"
      },
      "source": [
        "tone_of_voice[\"samantha\"]"
      ],
      "execution_count": 97,
      "outputs": [
        {
          "output_type": "execute_result",
          "data": {
            "application/vnd.google.colaboratory.intrinsic+json": {
              "type": "string"
            },
            "text/plain": [
              "'Whispering'"
            ]
          },
          "metadata": {
            "tags": []
          },
          "execution_count": 97
        }
      ]
    },
    {
      "cell_type": "code",
      "metadata": {
        "colab": {
          "base_uri": "https://localhost:8080/",
          "height": 35
        },
        "id": "iUcrYOu1-sYY",
        "outputId": "05490205-f889-4334-8440-e84918f43742"
      },
      "source": [
        "tone_of_voice[\"Samantha\"]"
      ],
      "execution_count": 109,
      "outputs": [
        {
          "output_type": "execute_result",
          "data": {
            "application/vnd.google.colaboratory.intrinsic+json": {
              "type": "string"
            },
            "text/plain": [
              "'Normal'"
            ]
          },
          "metadata": {
            "tags": []
          },
          "execution_count": 109
        }
      ]
    },
    {
      "cell_type": "markdown",
      "metadata": {
        "id": "V1VDXQwVBiP4"
      },
      "source": [
        "This one is the user input though:"
      ]
    },
    {
      "cell_type": "code",
      "metadata": {
        "colab": {
          "base_uri": "https://localhost:8080/"
        },
        "id": "WPVc86Wd_sYn",
        "outputId": "9867104b-5736-4957-9c4d-e0ceb62eddb6"
      },
      "source": [
        "Name = input(\"Type your name in all caps: \")\n",
        "print(Name + \" = Shouting\")\n",
        "\n",
        "Name = input(\"Type your name in lowercase: \")\n",
        "print(Name + \" = Whispering\")\n",
        "\n",
        "Name = input(\"Type your name Normally: \")\n",
        "print(Name + \" = Normal\")"
      ],
      "execution_count": 41,
      "outputs": [
        {
          "output_type": "stream",
          "text": [
            "Type your name in all caps: ALONDRA\n",
            "ALONDRA = Shouting\n",
            "Type your name in lowercase: alondra\n",
            "alondra = Whispering\n",
            "Type your name Normally: Alondra\n",
            "Alondra = Normal\n"
          ],
          "name": "stdout"
        }
      ]
    },
    {
      "cell_type": "markdown",
      "metadata": {
        "id": "ci1te360_bsi"
      },
      "source": [
        "Exercise 4:"
      ]
    },
    {
      "cell_type": "code",
      "metadata": {
        "colab": {
          "base_uri": "https://localhost:8080/"
        },
        "id": "_hZVJwZKLRHF",
        "outputId": "9764278b-e7d3-4ad8-b98d-7c6661d8caf1"
      },
      "source": [
        "Add = (56 + 76)\n",
        "print(\"The result is: \", Add)"
      ],
      "execution_count": 135,
      "outputs": [
        {
          "output_type": "stream",
          "text": [
            "The result is:  132\n"
          ],
          "name": "stdout"
        }
      ]
    },
    {
      "cell_type": "code",
      "metadata": {
        "colab": {
          "base_uri": "https://localhost:8080/"
        },
        "id": "V9RqJKMtLlVt",
        "outputId": "51cf60d3-dc79-48ea-8975-915837c71161"
      },
      "source": [
        "Subtract = (89283 - 65273)\n",
        "print(\"The result is \", Subtract)"
      ],
      "execution_count": 138,
      "outputs": [
        {
          "output_type": "stream",
          "text": [
            "The result is  24010\n"
          ],
          "name": "stdout"
        }
      ]
    },
    {
      "cell_type": "code",
      "metadata": {
        "colab": {
          "base_uri": "https://localhost:8080/"
        },
        "id": "VXuroiXTNkPj",
        "outputId": "19cf6e06-6585-45be-b89f-3f9cd8935af9"
      },
      "source": [
        "Multiply = (89 * 56)\n",
        "print(\"The result is \", Multiply)"
      ],
      "execution_count": 139,
      "outputs": [
        {
          "output_type": "stream",
          "text": [
            "The result is  4984\n"
          ],
          "name": "stdout"
        }
      ]
    },
    {
      "cell_type": "code",
      "metadata": {
        "colab": {
          "base_uri": "https://localhost:8080/"
        },
        "id": "n2D_YiEzNtnH",
        "outputId": "a9183c9f-a184-4ed0-bd5b-129b5c7ddbc8"
      },
      "source": [
        "Divide = (67 / 2)\n",
        "print(\"The result is \", Divide)"
      ],
      "execution_count": 141,
      "outputs": [
        {
          "output_type": "stream",
          "text": [
            "The result is  33.5\n"
          ],
          "name": "stdout"
        }
      ]
    },
    {
      "cell_type": "markdown",
      "metadata": {
        "id": "N6Bw5OQCba-m"
      },
      "source": [
        "This is function method though:\n"
      ]
    },
    {
      "cell_type": "code",
      "metadata": {
        "colab": {
          "base_uri": "https://localhost:8080/"
        },
        "id": "0AnEaBugWARH",
        "outputId": "43fb6d82-e6ca-4d35-9375-36051127366d"
      },
      "source": [
        "def add(a,b):\n",
        "  sum = a + b\n",
        "  return sum;\n",
        "\n",
        "add1=67\n",
        "add2=78\n",
        "print(\"The sum is\", add(add1,add2))\n",
        "\n"
      ],
      "execution_count": 16,
      "outputs": [
        {
          "output_type": "stream",
          "text": [
            "The sum is 145\n"
          ],
          "name": "stdout"
        }
      ]
    },
    {
      "cell_type": "code",
      "metadata": {
        "colab": {
          "base_uri": "https://localhost:8080/"
        },
        "id": "oYdZ9hpVamVB",
        "outputId": "ea107e34-af98-4b75-b343-2472b601db5d"
      },
      "source": [
        "def subtract(a,b):\n",
        "  sub = a - b\n",
        "  return sub;\n",
        "\n",
        "subtract1=97\n",
        "subtract2=25\n",
        "print(\"The subtraction is\", subtract(subtract1,subtract2))"
      ],
      "execution_count": 17,
      "outputs": [
        {
          "output_type": "stream",
          "text": [
            "The subtraction is 72\n"
          ],
          "name": "stdout"
        }
      ]
    },
    {
      "cell_type": "code",
      "metadata": {
        "colab": {
          "base_uri": "https://localhost:8080/"
        },
        "id": "xPn288EKa_5Z",
        "outputId": "34bc4ad9-2c16-418d-f767-6b07dfeb0e18"
      },
      "source": [
        "def multiply(a,b):\n",
        "  mul = a * b\n",
        "  return mul;\n",
        "\n",
        "multiply1=298\n",
        "multiply2=473\n",
        "print(\"The product is\", multiply(multiply1,multiply2))\n"
      ],
      "execution_count": 18,
      "outputs": [
        {
          "output_type": "stream",
          "text": [
            "The product is 140954\n"
          ],
          "name": "stdout"
        }
      ]
    },
    {
      "cell_type": "code",
      "metadata": {
        "colab": {
          "base_uri": "https://localhost:8080/"
        },
        "id": "yFtYFkjobpUH",
        "outputId": "13d30fe0-06a5-4323-9ac6-34c3a6ccbbf1"
      },
      "source": [
        "def divide(a,b):\n",
        "  div = a / b\n",
        "  return div;\n",
        "\n",
        "divide1=382\n",
        "divide2=37\n",
        "print(\"The quotient is\", divide(divide1,divide2))"
      ],
      "execution_count": 20,
      "outputs": [
        {
          "output_type": "stream",
          "text": [
            "The quotient is 10.324324324324325\n"
          ],
          "name": "stdout"
        }
      ]
    },
    {
      "cell_type": "markdown",
      "metadata": {
        "id": "Joi11dkdODCG"
      },
      "source": [
        "Exercise 5:"
      ]
    },
    {
      "cell_type": "markdown",
      "metadata": {
        "id": "PABV87k9-zrj"
      },
      "source": [
        "**Karen Alondra's Multiplication Calculator 2.0 First Edition**"
      ]
    },
    {
      "cell_type": "code",
      "metadata": {
        "colab": {
          "base_uri": "https://localhost:8080/"
        },
        "id": "0obArolOTzhi",
        "outputId": "024928bc-c6ec-4ad2-909a-ceb809d8a5b1"
      },
      "source": [
        "def multiply(a,b):\n",
        "    mul = a * b;\n",
        "    return mul;\n",
        "\n",
        "num1=int(input(\"input the first number: \"))\n",
        "num2=int(input(\"input the second number: \"))\n",
        "print(\"The product of\",num1,\"*\", num2,\"=\", multiply(num1,num2))"
      ],
      "execution_count": 43,
      "outputs": [
        {
          "output_type": "stream",
          "text": [
            "input the first number: 45829472\n",
            "input the second number: 43789475\n",
            "The product of 45829472 * 43789475 = 2006848518407200\n"
          ],
          "name": "stdout"
        }
      ]
    }
  ]
}